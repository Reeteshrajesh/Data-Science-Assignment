import pandas as pd
import numpy as np
from sklearn.preprocessing import StandardScaler
from sklearn.metrics.pairwise import cosine_similarity

customers_df = pd.read_csv('Customers.csv')
products_df = pd.read_csv('Products.csv')
transactions_df = pd.read_csv('Transactions.csv')

customer_features = pd.get_dummies(customers_df['Region'], prefix='Region')
customer_features['CustomerID'] = customers_df['CustomerID']
customer_features['AccountAge'] = (pd.Timestamp.now() - pd.to_datetime(customers_df['SignupDate'])).dt.days

customer_transactions = transactions_df.groupby('CustomerID').agg({
    'TransactionID': 'count',
    'TotalValue': ['sum', 'mean'],
    'Quantity': ['sum', 'mean']
}).reset_index()

customer_transactions.columns = ['CustomerID', 'TransactionCount', 'TotalSpend', 
                               'AvgTransactionValue', 'TotalQuantity', 'AvgQuantity']

trans_products = pd.merge(transactions_df, products_df[['ProductID', 'Category']], on='ProductID')
category_preferences = pd.crosstab(trans_products['CustomerID'], trans_products['Category'])
category_preferences = category_preferences.div(category_preferences.sum(axis=1), axis=0)

feature_matrix = pd.merge(customer_features, customer_transactions, on='CustomerID', how='left')
feature_matrix = pd.merge(feature_matrix, category_preferences, left_on='CustomerID', 
                        right_index=True, how='left')
feature_matrix = feature_matrix.fillna(0)

features = feature_matrix.drop('CustomerID', axis=1)
scaler = StandardScaler()
features_scaled = scaler.fit_transform(features)
similarity_matrix = cosine_similarity(features_scaled)

lookalike_results = []
for customer_id in customers_df['CustomerID'][:20]:
    customer_idx = feature_matrix[feature_matrix['CustomerID'] == customer_id].index[0]
    similarity_scores = similarity_matrix[customer_idx]
    similar_indices = np.argsort(similarity_scores)[::-1][1:4]
    recommendations = pd.DataFrame({
        'CustomerID': feature_matrix.iloc[similar_indices]['CustomerID'].values,
        'SimilarityScore': similarity_scores[similar_indices]
    })
    recommendations['TargetCustomerID'] = customer_id
    lookalike_results.append(recommendations)

lookalike_df = pd.concat(lookalike_results, ignore_index=True)
lookalike_df.to_csv('FirstName_LastName_Lookalike.csv', index=False)
