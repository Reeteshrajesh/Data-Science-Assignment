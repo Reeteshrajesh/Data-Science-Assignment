import pandas as pd
import numpy as np
import matplotlib.pyplot as plt
import seaborn as sns
from sklearn.preprocessing import StandardScaler
from sklearn.cluster import KMeans
from sklearn.metrics import davies_bouldin_score
from sklearn.metrics.pairwise import cosine_similarity
import warnings
warnings.filterwarnings('ignore')

plt.style.use('seaborn')
sns.set_palette("husl")

customers_df = pd.read_csv('Customers.csv')
products_df = pd.read_csv('Products.csv')
transactions_df = pd.read_csv('Transactions.csv')

customers_df['SignupDate'] = pd.to_datetime(customers_df['SignupDate'])
transactions_df['TransactionDate'] = pd.to_datetime(transactions_df['TransactionDate'])

print("Customer Statistics:")
print(f"Total number of customers: {len(customers_df)}")
print("Customers by Region:")
print(customers_df['Region'].value_counts())

print("\nProduct Statistics:")
print(f"Total number of products: {len(products_df)}")
print("Products by Category:")
print(products_df['Category'].value_counts())

print("\nTransaction Statistics:")
print(f"Total number of transactions: {len(transactions_df)}")
print(f"Total revenue: ${transactions_df['TotalValue'].sum():,.2f}")

plt.figure(figsize=(12, 6))
customers_df['SignupDate'].dt.year.value_counts().sort_index().plot(kind='bar')
plt.title('Customer Signups by Year')
plt.xlabel('Year')
plt.ylabel('Number of Signups')
plt.show()

monthly_sales = transactions_df.set_index('TransactionDate')['TotalValue'].resample('M').sum()
plt.figure(figsize=(12, 6))
monthly_sales.plot(kind='line')
plt.title('Monthly Sales Trend')
plt.xlabel('Date')
plt.ylabel('Total Sales')
plt.show()

category_sales = pd.merge(transactions_df, products_df, on='ProductID')
category_performance = category_sales.groupby('Category').agg({
    'TotalValue': 'sum',
    'TransactionID': 'count'
}).sort_values('TotalValue', ascending=False)

plt.figure(figsize=(12, 6))
category_performance['TotalValue'].plot(kind='bar')
plt.title('Sales by Product Category')
plt.xlabel('Category')
plt.ylabel('Total Sales')
plt.xticks(rotation=45)
plt.show()

customer_frequency = transactions_df['CustomerID'].value_counts()
plt.figure(figsize=(12, 6))
plt.hist(customer_frequency, bins=50)
plt.title('Customer Purchase Frequency Distribution')
plt.xlabel('Number of Purchases')
plt.ylabel('Number of Customers')
plt.show()
